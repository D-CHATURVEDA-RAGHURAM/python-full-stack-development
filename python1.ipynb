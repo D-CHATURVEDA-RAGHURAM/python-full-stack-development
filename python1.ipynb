{
  "nbformat": 4,
  "nbformat_minor": 0,
  "metadata": {
    "colab": {
      "name": "python1",
      "provenance": [],
      "authorship_tag": "ABX9TyOSaCVYb9JT1d5hIYa4yAJp",
      "include_colab_link": true
    },
    "kernelspec": {
      "name": "python3",
      "display_name": "Python 3"
    },
    "language_info": {
      "name": "python"
    }
  },
  "cells": [
    {
      "cell_type": "markdown",
      "metadata": {
        "id": "view-in-github",
        "colab_type": "text"
      },
      "source": [
        "<a href=\"https://colab.research.google.com/github/chaturaghu/python-full-stack-development/blob/main/python1.ipynb\" target=\"_parent\"><img src=\"https://colab.research.google.com/assets/colab-badge.svg\" alt=\"Open In Colab\"/></a>"
      ]
    },
    {
      "cell_type": "code",
      "execution_count": 1,
      "metadata": {
        "colab": {
          "base_uri": "https://localhost:8080/"
        },
        "id": "pu0DPc8R9IOn",
        "outputId": "84aa5efd-1a74-4926-90ba-7e73c3a80d18"
      },
      "outputs": [
        {
          "output_type": "stream",
          "name": "stdout",
          "text": [
            "['apple', 'banana', 'cherry']\n"
          ]
        }
      ],
      "source": [
        "list=['apple','banana','cherry']\n",
        "print(list)"
      ]
    },
    {
      "cell_type": "code",
      "source": [
        "list=['apple','banana','cherry','cherry','apple']\n",
        "print(list)"
      ],
      "metadata": {
        "colab": {
          "base_uri": "https://localhost:8080/"
        },
        "id": "snV9muse9VwY",
        "outputId": "dcab46e0-04d7-414d-f362-da8ac6a8d1c1"
      },
      "execution_count": 2,
      "outputs": [
        {
          "output_type": "stream",
          "name": "stdout",
          "text": [
            "['apple', 'banana', 'cherry', 'cherry', 'apple']\n"
          ]
        }
      ]
    },
    {
      "cell_type": "code",
      "source": [
        "list1=[1,2,3,4]\n",
        "print(list1)#list of integers\n",
        "list1=[]\n",
        "print(list1)#empty\n",
        "list1=[1,'Hello',6.9]\n",
        "print(list1)#mixed\n",
        "list1=['house',[1,2,3],list]\n",
        "print(list1)#mixed"
      ],
      "metadata": {
        "colab": {
          "base_uri": "https://localhost:8080/"
        },
        "id": "qJKhxaN19aDs",
        "outputId": "54cb3142-4100-4295-f494-f6c7b7efddb8"
      },
      "execution_count": 3,
      "outputs": [
        {
          "output_type": "stream",
          "name": "stdout",
          "text": [
            "[1, 2, 3, 4]\n",
            "[]\n",
            "[1, 'Hello', 6.9]\n",
            "['house', [1, 2, 3], ['apple', 'banana', 'cherry', 'cherry', 'apple']]\n"
          ]
        }
      ]
    },
    {
      "cell_type": "code",
      "source": [
        "print(list[0])\n",
        "print(list[1])\n",
        "print(list[2])\n",
        "\n",
        "print(list1[1][0])\n",
        "print(list1[0][2])"
      ],
      "metadata": {
        "colab": {
          "base_uri": "https://localhost:8080/"
        },
        "id": "OackLzFj9tB7",
        "outputId": "d4a7f665-5227-463b-ca14-7734fcf3ad62"
      },
      "execution_count": 6,
      "outputs": [
        {
          "output_type": "stream",
          "name": "stdout",
          "text": [
            "apple\n",
            "banana\n",
            "cherry\n",
            "1\n",
            "u\n"
          ]
        }
      ]
    },
    {
      "cell_type": "code",
      "source": [
        "print(list[-1])\n",
        "print(list[-2])\n",
        "print(list[-5])"
      ],
      "metadata": {
        "colab": {
          "base_uri": "https://localhost:8080/"
        },
        "id": "pmKk_aSo-he7",
        "outputId": "4ebebc28-018e-4d00-bb72-2eb944098bbb"
      },
      "execution_count": 7,
      "outputs": [
        {
          "output_type": "stream",
          "name": "stdout",
          "text": [
            "apple\n",
            "cherry\n",
            "apple\n"
          ]
        }
      ]
    },
    {
      "cell_type": "code",
      "source": [
        "#list=['apple','banana','cherry','cherry','apple']\n",
        "print(list[1:3])\n",
        "print(list[3:])\n",
        "print(list[:])"
      ],
      "metadata": {
        "colab": {
          "base_uri": "https://localhost:8080/"
        },
        "id": "p19VuHBk-kLS",
        "outputId": "1d363fbc-8b1b-453a-9398-c7b5b1eac50a"
      },
      "execution_count": 8,
      "outputs": [
        {
          "output_type": "stream",
          "name": "stdout",
          "text": [
            "['banana', 'cherry']\n",
            "['cherry', 'apple']\n",
            "['apple', 'banana', 'cherry', 'cherry', 'apple']\n"
          ]
        }
      ]
    },
    {
      "cell_type": "code",
      "source": [
        "num=[1,5,7,9]\n",
        "print(num)\n",
        "num.append(10)\n",
        "print(num)\n",
        "num.extend([11,13])\n",
        "print(num)\n",
        "print('pa'*2)\n",
        "num.insert(1,3)\n",
        "print(num)\n",
        "del num[2]\n",
        "print(num)\n",
        "del num[4:7]\n",
        "print(num)\n",
        "print(num.pop());\n",
        "print(num.clear());"
      ],
      "metadata": {
        "colab": {
          "base_uri": "https://localhost:8080/"
        },
        "id": "f0YJ53TE-mwa",
        "outputId": "db28c729-93f5-4207-9779-9dbbe962e06f"
      },
      "execution_count": 9,
      "outputs": [
        {
          "output_type": "stream",
          "name": "stdout",
          "text": [
            "[1, 5, 7, 9]\n",
            "[1, 5, 7, 9, 10]\n",
            "[1, 5, 7, 9, 10, 11, 13]\n",
            "papa\n",
            "[1, 3, 5, 7, 9, 10, 11, 13]\n",
            "[1, 3, 7, 9, 10, 11, 13]\n",
            "[1, 3, 7, 9]\n",
            "9\n",
            "None\n"
          ]
        }
      ]
    },
    {
      "cell_type": "code",
      "source": [
        "xyz=[1,2,2,3,2]\n",
        "print(xyz.index(1))\n",
        "print(xyz.count(2))"
      ],
      "metadata": {
        "colab": {
          "base_uri": "https://localhost:8080/"
        },
        "id": "vZlZXmLn-pbd",
        "outputId": "9b895427-2df8-4a99-ef96-7206fb176fc6"
      },
      "execution_count": 10,
      "outputs": [
        {
          "output_type": "stream",
          "name": "stdout",
          "text": [
            "0\n",
            "3\n"
          ]
        }
      ]
    }
  ]
}