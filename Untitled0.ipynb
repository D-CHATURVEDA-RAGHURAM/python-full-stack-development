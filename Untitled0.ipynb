{
  "nbformat": 4,
  "nbformat_minor": 0,
  "metadata": {
    "colab": {
      "name": "Untitled0.ipynb",
      "provenance": [],
      "authorship_tag": "ABX9TyNoSTLS8H3kKy2vYOBTuKKo",
      "include_colab_link": true
    },
    "kernelspec": {
      "name": "python3",
      "display_name": "Python 3"
    },
    "language_info": {
      "name": "python"
    }
  },
  "cells": [
    {
      "cell_type": "markdown",
      "metadata": {
        "id": "view-in-github",
        "colab_type": "text"
      },
      "source": [
        "<a href=\"https://colab.research.google.com/github/chaturaghu/python-full-stack-development/blob/main/Untitled0.ipynb\" target=\"_parent\"><img src=\"https://colab.research.google.com/assets/colab-badge.svg\" alt=\"Open In Colab\"/></a>"
      ]
    },
    {
      "cell_type": "code",
      "execution_count": 1,
      "metadata": {
        "colab": {
          "base_uri": "https://localhost:8080/"
        },
        "id": "QGfHx3iXlp_r",
        "outputId": "08f84561-4a39-4435-af4d-bfb6d13a292f"
      },
      "outputs": [
        {
          "output_type": "stream",
          "name": "stdout",
          "text": [
            "ADDITION 13\n",
            "SUBTRACTION 5\n",
            "MULTIPLICATION 36\n",
            "DIVISION 2.25\n"
          ]
        }
      ],
      "source": [
        "a = 9\n",
        "b = 4\n",
        "add = a + b\n",
        "sub = a - b\n",
        "mul = a * b\n",
        "div1 = a / b\n",
        "print(\"ADDITION\",add)\n",
        "print(\"SUBTRACTION\",sub)\n",
        "print(\"MULTIPLICATION\",mul)\n",
        "print(\"DIVISION\",div1)"
      ]
    }
  ]
}