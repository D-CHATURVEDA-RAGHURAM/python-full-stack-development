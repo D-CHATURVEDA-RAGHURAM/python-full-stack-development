{
  "nbformat": 4,
  "nbformat_minor": 0,
  "metadata": {
    "colab": {
      "name": "pythonset",
      "provenance": [],
      "authorship_tag": "ABX9TyPx2NZHsewehrE84VARTVId",
      "include_colab_link": true
    },
    "kernelspec": {
      "name": "python3",
      "display_name": "Python 3"
    },
    "language_info": {
      "name": "python"
    }
  },
  "cells": [
    {
      "cell_type": "markdown",
      "metadata": {
        "id": "view-in-github",
        "colab_type": "text"
      },
      "source": [
        "<a href=\"https://colab.research.google.com/github/chaturaghu/python-full-stack-development/blob/main/pythonset.ipynb\" target=\"_parent\"><img src=\"https://colab.research.google.com/assets/colab-badge.svg\" alt=\"Open In Colab\"/></a>"
      ]
    },
    {
      "cell_type": "code",
      "execution_count": 1,
      "metadata": {
        "colab": {
          "base_uri": "https://localhost:8080/"
        },
        "id": "efRM5j5BE90B",
        "outputId": "b5ebe15b-22cf-44ae-843d-bfa52ae8f6c0"
      },
      "outputs": [
        {
          "output_type": "stream",
          "name": "stdout",
          "text": [
            "{1, 2, 3, 4, 5}\n"
          ]
        }
      ],
      "source": [
        "numberSet={1,2,3,4,5}\n",
        "print(numberSet)"
      ]
    },
    {
      "cell_type": "code",
      "source": [
        "emptySet={}\n",
        "print(type(emptySet))"
      ],
      "metadata": {
        "colab": {
          "base_uri": "https://localhost:8080/"
        },
        "id": "dq3vbT3JFLPU",
        "outputId": "66cc0c50-7d80-4f65-a9bf-a0a719dfd3d3"
      },
      "execution_count": 3,
      "outputs": [
        {
          "output_type": "stream",
          "name": "stdout",
          "text": [
            "<class 'dict'>\n"
          ]
        }
      ]
    },
    {
      "cell_type": "code",
      "source": [
        "emptySet=set()\n",
        "print(type(emptySet))"
      ],
      "metadata": {
        "colab": {
          "base_uri": "https://localhost:8080/"
        },
        "id": "iRSjiPmoFYtx",
        "outputId": "3939314e-6eb3-4b76-8f0d-755fae461d4d"
      },
      "execution_count": 4,
      "outputs": [
        {
          "output_type": "stream",
          "name": "stdout",
          "text": [
            "<class 'set'>\n"
          ]
        }
      ]
    },
    {
      "cell_type": "code",
      "source": [
        "my_set={1.0,\"hello\",(1,2,3)}\n",
        "print(my_set)"
      ],
      "metadata": {
        "colab": {
          "base_uri": "https://localhost:8080/"
        },
        "id": "YU60HJXeGCHk",
        "outputId": "34b70cd7-17d9-4682-882c-42785c3daf06"
      },
      "execution_count": 5,
      "outputs": [
        {
          "output_type": "stream",
          "name": "stdout",
          "text": [
            "{1.0, 'hello', (1, 2, 3)}\n"
          ]
        }
      ]
    },
    {
      "cell_type": "code",
      "source": [
        "set_with_lists=set([1,2,3])\n",
        "print(type(set_with_lists))\n",
        "print(set_with_lists)"
      ],
      "metadata": {
        "colab": {
          "base_uri": "https://localhost:8080/"
        },
        "id": "LFG7HxjgGMNF",
        "outputId": "e450fe9d-d187-47a2-a0c2-4eb7e2625d24"
      },
      "execution_count": 9,
      "outputs": [
        {
          "output_type": "stream",
          "name": "stdout",
          "text": [
            "<class 'set'>\n",
            "{1, 2, 3}\n"
          ]
        }
      ]
    },
    {
      "cell_type": "code",
      "source": [
        "mine=set()\n",
        "mine.update([9,12])\n",
        "mine.update((3,5))\n",
        "mine.update(\"hello\")\n",
        "print(mine)"
      ],
      "metadata": {
        "colab": {
          "base_uri": "https://localhost:8080/"
        },
        "id": "JzB_H4J1GS25",
        "outputId": "0c9e3ac2-fbf7-467d-f315-3279ba5d8baa"
      },
      "execution_count": 14,
      "outputs": [
        {
          "output_type": "stream",
          "name": "stdout",
          "text": [
            "{3, 5, 'e', 'l', 9, 12, 'h', 'o'}\n"
          ]
        }
      ]
    },
    {
      "cell_type": "code",
      "source": [
        "my=set()\n",
        "my.update([3,5,9,12])\n",
        "my.update((\"india\",\"bharat\"))\n",
        "print(my)"
      ],
      "metadata": {
        "colab": {
          "base_uri": "https://localhost:8080/"
        },
        "id": "qonkf7znHEcz",
        "outputId": "2005f7d5-e4be-4632-a1ba-8279dcc85e6f"
      },
      "execution_count": 16,
      "outputs": [
        {
          "output_type": "stream",
          "name": "stdout",
          "text": [
            "{3, 5, 9, 12, 'india', 'bharat'}\n"
          ]
        }
      ]
    },
    {
      "cell_type": "code",
      "source": [
        "my.discard(12)\n",
        "print(my)"
      ],
      "metadata": {
        "colab": {
          "base_uri": "https://localhost:8080/"
        },
        "id": "xQUdgZNcHzOO",
        "outputId": "33d4165e-7fef-4137-af1e-e176b0dff48c"
      },
      "execution_count": 17,
      "outputs": [
        {
          "output_type": "stream",
          "name": "stdout",
          "text": [
            "{3, 5, 9, 'india', 'bharat'}\n"
          ]
        }
      ]
    },
    {
      "cell_type": "code",
      "source": [
        "my.discard(15)\n",
        "print(my)"
      ],
      "metadata": {
        "colab": {
          "base_uri": "https://localhost:8080/"
        },
        "id": "g2pY5dR0H3G4",
        "outputId": "184d0d57-c24b-4c6a-ede5-0d9ae0b6c3cd"
      },
      "execution_count": 18,
      "outputs": [
        {
          "output_type": "stream",
          "name": "stdout",
          "text": [
            "{3, 5, 9, 'india', 'bharat'}\n"
          ]
        }
      ]
    },
    {
      "cell_type": "code",
      "source": [
        "hello=set(\"apple\")\n",
        "print('a' in hello)\n",
        "print('p' not in hello)"
      ],
      "metadata": {
        "colab": {
          "base_uri": "https://localhost:8080/"
        },
        "id": "ToG5qq9eH8Hf",
        "outputId": "a411ddb5-dc5b-4a80-8352-12c87178f745"
      },
      "execution_count": 19,
      "outputs": [
        {
          "output_type": "stream",
          "name": "stdout",
          "text": [
            "True\n",
            "False\n"
          ]
        }
      ]
    },
    {
      "cell_type": "code",
      "source": [
        "A={1,2,3,4,5}\n",
        "B={4,5,6,7,8}\n",
        "print('Union =',A|B)\n",
        "print('Intersection =',A&B)\n",
        "print('Difference =',A-B)\n",
        "print('Symmetric Diff =',A^B)"
      ],
      "metadata": {
        "colab": {
          "base_uri": "https://localhost:8080/"
        },
        "id": "RsLYvtYyIQ9_",
        "outputId": "526e238d-58a5-4620-cc29-3c2f4c395e2f"
      },
      "execution_count": 20,
      "outputs": [
        {
          "output_type": "stream",
          "name": "stdout",
          "text": [
            "Union = {1, 2, 3, 4, 5, 6, 7, 8}\n",
            "Intersection = {4, 5}\n",
            "Difference = {1, 2, 3}\n",
            "Symmetric Diff = {1, 2, 3, 6, 7, 8}\n"
          ]
        }
      ]
    },
    {
      "cell_type": "code",
      "source": [
        "studentlist={'danush','jaison','sangeetha','uma','amrutha','lohita','prasad','ashwathi'}\n",
        "placedlist=[\"uma\",\"danish\",\"amrutha\"]\n",
        "notplacedlist=set(studentlist)-set(placedlist)\n",
        "print(\"Students yet to get job \\n\",notplacedlist)"
      ],
      "metadata": {
        "colab": {
          "base_uri": "https://localhost:8080/"
        },
        "id": "0Hc-xm14ItcF",
        "outputId": "8220ec5b-ee0e-45f3-c63b-d46384e9ed5d"
      },
      "execution_count": 21,
      "outputs": [
        {
          "output_type": "stream",
          "name": "stdout",
          "text": [
            "Students yet to get job \n",
            " {'ashwathi', 'danush', 'lohita', 'jaison', 'prasad', 'sangeetha'}\n"
          ]
        }
      ]
    },
    {
      "cell_type": "code",
      "source": [
        "batsmen=[\"virat\",\"rohit\",\"dhawan\",\"dhoni\",\"pandya\",\"jadeja\"]\n",
        "bowlers=[\"bhuvenashwar\",\"shami\",\"pandya\",\"jadeja\",\"kuldeep\"]\n",
        "allrounders=set(batsmen)&set(bowlers)\n",
        "print(\"Batsmen : \",batsmen)\n",
        "print(\"Bowlers : \",bowlers)\n",
        "print(\"All rounders : \",allrounders)"
      ],
      "metadata": {
        "colab": {
          "base_uri": "https://localhost:8080/"
        },
        "id": "Dt5VUsRJJY_n",
        "outputId": "c0950d59-daa1-491c-e8c8-b292e4b4edff"
      },
      "execution_count": 22,
      "outputs": [
        {
          "output_type": "stream",
          "name": "stdout",
          "text": [
            "Batsmen :  ['virat', 'rohit', 'dhawan', 'dhoni', 'pandya', 'jadeja']\n",
            "Bowlers :  ['bhuvenashwar', 'shami', 'pandya', 'jadeja', 'kuldeep']\n",
            "All rounders :  {'jadeja', 'pandya'}\n"
          ]
        }
      ]
    },
    {
      "cell_type": "code",
      "source": [
        "tcs=[\"uma\",\"danish\",\"amrutha\"]\n",
        "infosys=[\"lohita\",\"danish\",\"ashwathi\"]\n",
        "wipro=[\"sangeetha\",\"jaison\",\"prasad\",\"amrutha\"]\n",
        "placed=set(tcs) | set(infosys) | set(wipro)\n",
        "print(placed)\n",
        "print(\"number of people placed = \",len(placed))"
      ],
      "metadata": {
        "colab": {
          "base_uri": "https://localhost:8080/"
        },
        "id": "y7w3pHpdJ64u",
        "outputId": "6a126043-abbf-4b56-83ae-7a8d464e86d8"
      },
      "execution_count": 23,
      "outputs": [
        {
          "output_type": "stream",
          "name": "stdout",
          "text": [
            "{'uma', 'ashwathi', 'lohita', 'amrutha', 'prasad', 'jaison', 'sangeetha', 'danish'}\n",
            "number of people placed =  8\n"
          ]
        }
      ]
    },
    {
      "cell_type": "code",
      "source": [
        "numbers={1,2,3,4,5,6,7,8,9,10}\n",
        "odd={1,3,5,7,9}\n",
        "even={2,4,6,8,10}\n",
        "print(odd.isdisjoint(even))\n",
        "print(numbers.issuperset(odd))\n",
        "print(odd.issuperset(numbers))\n",
        "print(odd.issubset(numbers))"
      ],
      "metadata": {
        "colab": {
          "base_uri": "https://localhost:8080/"
        },
        "id": "Go-1PtxQKYcJ",
        "outputId": "328a1279-1e73-4e2b-f4ed-f9b70e9fb2f0"
      },
      "execution_count": 24,
      "outputs": [
        {
          "output_type": "stream",
          "name": "stdout",
          "text": [
            "True\n",
            "True\n",
            "False\n",
            "True\n"
          ]
        }
      ]
    },
    {
      "cell_type": "code",
      "source": [
        "data=\"cranes varsity bangalore\"\n",
        "unique=set(data)\n",
        "print(\"numbers of uniqu characters \",len(unique))\n",
        "print(\"list of unique charcters =\",unique)\n",
        "data=list(data)\n",
        "for ele in unique:\n",
        "  data.remove(ele)\n",
        "print(\"repeated characters \",set(data))"
      ],
      "metadata": {
        "colab": {
          "base_uri": "https://localhost:8080/"
        },
        "id": "Fen54k-oKwJ0",
        "outputId": "589cba3c-0f97-4ee4-e39a-c8721c4e3334"
      },
      "execution_count": 25,
      "outputs": [
        {
          "output_type": "stream",
          "name": "stdout",
          "text": [
            "numbers of uniqu characters  15\n",
            "list of unique charcters = {'t', 'g', 'e', 'i', 'v', 'l', 'y', 'a', 'n', 's', ' ', 'o', 'c', 'b', 'r'}\n",
            "repeated characters  {'e', 'a', 'n', 's', ' ', 'r'}\n"
          ]
        }
      ]
    }
  ]
}